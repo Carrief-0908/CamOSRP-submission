{
 "cells": [
  {
   "cell_type": "code",
   "execution_count": 2,
   "metadata": {},
   "outputs": [
    {
     "name": "stderr",
     "output_type": "stream",
     "text": [
      "/opt/homebrew/Caskroom/miniforge/base/envs/cq1/lib/python3.9/site-packages/tqdm/auto.py:21: TqdmWarning: IProgress not found. Please update jupyter and ipywidgets. See https://ipywidgets.readthedocs.io/en/stable/user_install.html\n",
      "  from .autonotebook import tqdm as notebook_tqdm\n"
     ]
    }
   ],
   "source": [
    "import pandas as pd\n",
    "import numpy as np\n",
    "import torch\n",
    "import matplotlib.pyplot as plt\n",
    "import seaborn as sns\n",
    "from scipy import stats\n",
    "from statsmodels.stats.outliers_influence import variance_inflation_factor\n",
    "from sklearn.model_selection import train_test_split\n",
    "from transformers import BertModel, BertTokenizer"
   ]
  },
  {
   "cell_type": "code",
   "execution_count": 3,
   "metadata": {},
   "outputs": [
    {
     "name": "stdout",
     "output_type": "stream",
     "text": [
      "type\n",
      "0    428103\n",
      "1     96457\n",
      "3     94111\n",
      "2     32520\n",
      "Name: count, dtype: int64\n"
     ]
    },
    {
     "data": {
      "text/plain": [
       "<Axes: xlabel='type', ylabel='count'>"
      ]
     },
     "execution_count": 3,
     "metadata": {},
     "output_type": "execute_result"
    },
    {
     "data": {
      "image/png": "[encoded data removed]",
      "text/plain": [
       "<Figure size 640x480 with 1 Axes>"
      ]
     },
     "metadata": {},
     "output_type": "display_data"
    }
   ],
   "source": [
    "from sklearn.preprocessing import LabelEncoder\n",
    "df = pd.read_csv('/Users/qiaochufeng/Desktop/Cam/Bert/phish_full.csv')\n",
    "df_train = df[:1000]\n",
    "df_val = df[1000:1100]\n",
    "cat_cols = df.select_dtypes(include=['object']).columns.tolist() # ['url', 'type']\n",
    "le = LabelEncoder() # Initialize the LabelEncoder\n",
    "encoded_data = le.fit_transform(df['type']) # Fit and transform the data into [0, 1, 2, 3]\n",
    "df['type'] = encoded_data\n",
    "class_counts = df['type'].value_counts()\n",
    "print(class_counts) \n",
    "%matplotlib inline\n",
    "sns.countplot(x = 'type', data = df, order = df['type'].value_counts().index)"
   ]
  },
  {
   "cell_type": "code",
   "execution_count": 5,
   "metadata": {},
   "outputs": [
    {
     "name": "stderr",
     "output_type": "stream",
     "text": [
      "Some weights of the model checkpoint at bert-base-uncased were not used when initializing BertModel: ['cls.predictions.transform.LayerNorm.weight', 'cls.predictions.decoder.weight', 'cls.predictions.transform.LayerNorm.bias', 'cls.predictions.bias', 'cls.seq_relationship.weight', 'cls.seq_relationship.bias', 'cls.predictions.transform.dense.bias', 'cls.predictions.transform.dense.weight']\n",
      "- This IS expected if you are initializing BertModel from the checkpoint of a model trained on another task or with another architecture (e.g. initializing a BertForSequenceClassification model from a BertForPreTraining model).\n",
      "- This IS NOT expected if you are initializing BertModel from the checkpoint of a model that you expect to be exactly identical (initializing a BertForSequenceClassification model from a BertForSequenceClassification model).\n"
     ]
    }
   ],
   "source": [
    "# Load the pre-trained BERT model and tokenizer\n",
    "model = BertModel.from_pretrained('bert-base-uncased', output_hidden_states=True)\n",
    "tokenizer = BertTokenizer.from_pretrained('bert-base-uncased')"
   ]
  },
  {
   "cell_type": "code",
   "execution_count": 6,
   "metadata": {},
   "outputs": [],
   "source": [
    "# Define a function to extract features for each transaction\n",
    "def extract_features(text): \n",
    "    input_ids = torch.tensor([tokenizer.encode(text, add_special_tokens=True)]) # Tokenize the text\n",
    "    with torch.no_grad(): # Get the hidden states for each token\n",
    "        outputs = model(input_ids)\n",
    "        hidden_states = outputs[2]\n",
    "    token_vecs = [] # Concatenate the last 4 hidden states\n",
    "    for layer in range(-4, 0):\n",
    "        token_vecs.append(hidden_states[layer][0])\n",
    "    features = [] # Calculate the mean of the last 4 hidden states\n",
    "    for token in token_vecs:\n",
    "        features.append(torch.mean(token, dim=0))\n",
    "    return torch.stack(features) # Return the features as a tensor"
   ]
  },
  {
   "cell_type": "code",
   "execution_count": 9,
   "metadata": {},
   "outputs": [
    {
     "name": "stdout",
     "output_type": "stream",
     "text": [
      "(4000, 768)\n",
      "(1000,)\n"
     ]
    }
   ],
   "source": [
    "# Extract features for each transaction\n",
    "features = []\n",
    "df = df_train\n",
    "for i in range(len(df)):\n",
    "    features.append(extract_features(df.iloc[i][\"url\"]))\n",
    "features = torch.cat(features).numpy() # Concatenate the features and convert to a numpy array\n",
    "types = df['type'].values\n",
    "print(features.shape) # features is a 2D numpy array of size 4000x768\n",
    "print(types.shape) # labels is a 1D numpy array of size 1000"
   ]
  },
  {
   "cell_type": "code",
   "execution_count": 10,
   "metadata": {},
   "outputs": [
    {
     "data": {
      "text/plain": [
       "(1000, 3072)"
      ]
     },
     "execution_count": 10,
     "metadata": {},
     "output_type": "execute_result"
    }
   ],
   "source": [
    "# reshape the feature array to size 1000x(768*4)\n",
    "features_reshaped = features.reshape((1000, -1))\n",
    "# concatenate the feature array with the label array horizontally\n",
    "dataset = np.hstack((features_reshaped, types.reshape((-1, 1))))\n",
    "# dataset is a 2D numpy array of size 1000x(4000*768+1)\n",
    "features_reshaped.shape"
   ]
  },
  {
   "cell_type": "code",
   "execution_count": 11,
   "metadata": {},
   "outputs": [],
   "source": [
    "# Split the data into training and testing sets\n",
    "train_data, test_data = train_test_split(dataset, test_size=0.2, random_state=42)\n",
    "X_train, y_train = train_data[:, :-1], train_data[:, -1] # array\n",
    "X_test, y_test = test_data[:, :-1], test_data[:, -1] # array"
   ]
  },
  {
   "cell_type": "code",
   "execution_count": 13,
   "metadata": {},
   "outputs": [
    {
     "name": "stdout",
     "output_type": "stream",
     "text": [
      "Class distribution before resampling: benign        593\n",
      "defacement    138\n",
      "phishing       45\n",
      "malware        24\n",
      "Name: count, dtype: int64\n",
      "Class distribution after resampling: benign        593\n",
      "defacement    593\n",
      "phishing      593\n",
      "malware       593\n",
      "Name: count, dtype: int64\n"
     ]
    }
   ],
   "source": [
    "from imblearn.over_sampling import SMOTE\n",
    "\n",
    "# Instantiate SMOTE\n",
    "sm = SMOTE(random_state=42)\n",
    "\n",
    "# Fit SMOTE to training data\n",
    "X_train_res, y_train_res = sm.fit_resample(X_train, y_train)\n",
    "\n",
    "y_train_s = pd.Series(y_train)\n",
    "y_train_res = pd.Series (y_train_res)\n",
    "\n",
    "# Print class distribution of original and resampled data\n",
    "print('Class distribution before resampling:', y_train_s.value_counts())\n",
    "print('Class distribution after resampling:', y_train_res.value_counts())"
   ]
  },
  {
   "cell_type": "code",
   "execution_count": 14,
   "metadata": {},
   "outputs": [
    {
     "name": "stdout",
     "output_type": "stream",
     "text": [
      "Accuracy: 0.96\n"
     ]
    },
    {
     "name": "stderr",
     "output_type": "stream",
     "text": [
      "/opt/homebrew/Caskroom/miniforge/base/envs/cq1/lib/python3.9/site-packages/sklearn/linear_model/_logistic.py:460: ConvergenceWarning: lbfgs failed to converge (status=1):\n",
      "STOP: TOTAL NO. of ITERATIONS REACHED LIMIT.\n",
      "\n",
      "Increase the number of iterations (max_iter) or scale the data as shown in:\n",
      "    https://scikit-learn.org/stable/modules/preprocessing.html\n",
      "Please also refer to the documentation for alternative solver options:\n",
      "    https://scikit-learn.org/stable/modules/linear_model.html#logistic-regression\n",
      "  n_iter_i = _check_optimize_result(\n"
     ]
    }
   ],
   "source": [
    "from sklearn.linear_model import LogisticRegression\n",
    "# Train a logistic regression classifier on the training set\n",
    "clf = LogisticRegression()\n",
    "clf.fit(X_train, y_train)\n",
    "# Evaluate the classifier on the testing set\n",
    "score = clf.score(X_test, y_test)\n",
    "print(\"Accuracy:\", score)"
   ]
  },
  {
   "cell_type": "code",
   "execution_count": 15,
   "metadata": {},
   "outputs": [
    {
     "name": "stdout",
     "output_type": "stream",
     "text": [
      "Confusion Matrix:\n",
      " [[140   0   0   1]\n",
      " [  1  41   1   0]\n",
      " [  1   1   4   1]\n",
      " [  1   1   0   7]]\n",
      "\n",
      "Classification Report:\n",
      "               precision    recall  f1-score   support\n",
      "\n",
      "      benign       0.98      0.99      0.99       141\n",
      "  defacement       0.95      0.95      0.95        43\n",
      "     malware       0.80      0.57      0.67         7\n",
      "    phishing       0.78      0.78      0.78         9\n",
      "\n",
      "    accuracy                           0.96       200\n",
      "   macro avg       0.88      0.82      0.85       200\n",
      "weighted avg       0.96      0.96      0.96       200\n",
      "\n"
     ]
    }
   ],
   "source": [
    "# Predict the labels of the testing set\n",
    "y_pred = clf.predict(X_test)\n",
    "from sklearn.metrics import confusion_matrix, classification_report\n",
    "# Generate the confusion matrix and classification report\n",
    "cm = confusion_matrix(y_test, y_pred)\n",
    "cr = classification_report(y_test, y_pred)\n",
    "print(\"Confusion Matrix:\\n\", cm)\n",
    "print(\"\\nClassification Report:\\n\", cr)\n",
    "\n"
   ]
  },
  {
   "cell_type": "code",
   "execution_count": 1,
   "metadata": {},
   "outputs": [
    {
     "name": "stderr",
     "output_type": "stream",
     "text": [
      "IProgress not found. Please update jupyter and ipywidgets. See https://ipywidgets.readthedocs.io/en/stable/user_install.html\n"
     ]
    }
   ],
   "source": [
    "import shap\n",
    "import torch\n",
    "import json\n",
    "import numpy as np\n",
    "import scipy as sp\n",
    "from transformers import AutoModelForSequenceClassification, AutoTokenizer, TextClassificationPipeline"
   ]
  },
  {
   "cell_type": "code",
   "execution_count": null,
   "metadata": {},
   "outputs": [],
   "source": [
    "def load_model(model_path):\n",
    "    # Load the tokenizer and model from the \"roberta-base\" pre-trained model\n",
    "    tokenizer = AutoTokenizer.from_pretrained(\"roberta-base\",use_fast=True)\n",
    "    model = AutoModelForSequenceClassification.from_pretrained(\"roberta-base\").cuda()\n",
    "    # Load the saved state dict of the fine-tuned model\n",
    "    model.load_state_dict(torch.load(model_path))\n",
    "    return tokenizer, model\n",
    "\n",
    "tokenizer = tokenizer\n",
    "model = clf\n",
    "\n",
    "def main():\n",
    "    # Load the fine-tuned model from the saved state dict\n",
    "    print(tokenizer.model_max_length)\n",
    "    labels = [\"negative\", \"positive\"]\n",
    "\n",
    "    test_data = \"This one is just like the 6th movie. The movie is really bad. It offers nothing in the death department. The one-liners are bad and are something that shouldn't be in a NOES movie. Freddy comes off as a happy child in the whole movie. Lisa Wilcox is still the only thing that makes this one worth while. The characters are extremely underdeveloped. All in all better than the 6th one, but still one the worst movies of the series. My rating 2/10\"\n",
    "    device = 'cuda:0'\n",
    "\n",
    "    input_ids, attention_mask = preprocess_text(\n",
    "                tokenizer, test_data, max_length=512\n",
    "            )\n",
    "    predicted_label = get_prediction(model, input_ids, attention_mask)\n",
    "    print(predicted_label)\n",
    "    if predicted_label == 1:\n",
    "      order = shap.Explanation.argsort.flip\n",
    "    else:\n",
    "      order = shap.Explanation.argsort\n",
    "\n",
    "    pipe = TextClassificationPipeline(model=model, tokenizer=tokenizer, device=device ,return_all_scores=True)\n",
    "    pmodel = shap.models.TransformersPipeline(pipe, rescale_to_logits=True)\n",
    "    explainer = shap.Explainer(pmodel,output_names=labels)\n",
    "    shap_values = explainer([test_data])\n",
    "    data = []\n",
    "    '''for word in shap_values.data[0]:\n",
    "      new_word = word.replace('Ġ', '')\n",
    "      #new_word = new_word.replace('\\n', '')\n",
    "      data.append(new_word)\n",
    "    shap_values.data = tuple([np.array(data)])'''\n",
    "    shap.plots.text(shap_values[:,:,1])\n",
    "    shap.plots.bar(shap_values[0,:,1], order=order)\n",
    "\n",
    "\n",
    "if __name__ == \"__main__\":\n",
    "    main()"
   ]
  }
 ],
 "metadata": {
  "kernelspec": {
   "display_name": "pt18",
   "language": "python",
   "name": "python3"
  },
  "language_info": {
   "codemirror_mode": {
    "name": "ipython",
    "version": 3
   },
   "file_extension": ".py",
   "mimetype": "text/x-python",
   "name": "python",
   "nbconvert_exporter": "python",
   "pygments_lexer": "ipython3",
   "version": "3.9.16"
  },
  "orig_nbformat": 4
 },
 "nbformat": 4,
 "nbformat_minor": 2
}
